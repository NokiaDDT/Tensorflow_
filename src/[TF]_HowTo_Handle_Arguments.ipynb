{
 "cells": [
  {
   "cell_type": "markdown",
   "metadata": {},
   "source": [
    "# tf.app.flags\n",
    "\n",
    "The module is presently a thin wrapper as a convenience for writing demo apps, and is not technically part of the public API.\n",
    "\n",
    "According to the question on stackoverflow: [Whats the purpose of tf.app.flags in tensorflow](https://stackoverflow.com/questions/33932901)\n",
    "\n",
    "We recommend that you implement your own flag parsing use **[argparse]([Python]_HowTo_Handle_Arguments.ipynb)** or whatever library you prefer."
   ]
  },
  {
   "cell_type": "code",
   "execution_count": 1,
   "metadata": {},
   "outputs": [
    {
     "name": "stderr",
     "output_type": "stream",
     "text": [
      "/home/nokia-du/anaconda3/lib/python3.6/importlib/_bootstrap.py:219: RuntimeWarning: compiletime version 3.5 of module 'tensorflow.python.framework.fast_tensor_util' does not match runtime version 3.6\n",
      "  return f(*args, **kwds)\n"
     ]
    }
   ],
   "source": [
    "import tensorflow as tf"
   ]
  },
  {
   "cell_type": "code",
   "execution_count": 2,
   "metadata": {},
   "outputs": [
    {
     "name": "stdout",
     "output_type": "stream",
     "text": [
      "learning_rate 0.01\n",
      "max_steps 2000\n",
      "train_dir data\n",
      "fake_data False\n"
     ]
    }
   ],
   "source": [
    "flags = tf.app.flags\n",
    "FLAGS = flags.FLAGS\n",
    "\n",
    "argument_name = ['learning_rate', 'max_steps', 'train_dir', 'fake_data']\n",
    "\n",
    "flags.DEFINE_float(argument_name[0], 0.01, 'Initial learning rate')\n",
    "flags.DEFINE_integer(argument_name[1], 2000, 'Number of steps to run trainer')\n",
    "flags.DEFINE_string(argument_name[2], 'data', 'Dictionary to put the training data')\n",
    "flags.DEFINE_boolean(argument_name[3], False, 'If true, uses fake data, just for unit testing')\n",
    "\n",
    "# Now, you can use it by FLAGS\n",
    "print(argument_name[0], FLAGS.learning_rate)\n",
    "print(argument_name[1], FLAGS.max_steps)\n",
    "print(argument_name[2], FLAGS.train_dir)\n",
    "print(argument_name[3], FLAGS.fake_data)"
   ]
  },
  {
   "cell_type": "code",
   "execution_count": null,
   "metadata": {
    "collapsed": true
   },
   "outputs": [],
   "source": []
  }
 ],
 "metadata": {
  "kernelspec": {
   "display_name": "Python [default]",
   "language": "python",
   "name": "python3"
  },
  "language_info": {
   "codemirror_mode": {
    "name": "ipython",
    "version": 3
   },
   "file_extension": ".py",
   "mimetype": "text/x-python",
   "name": "python",
   "nbconvert_exporter": "python",
   "pygments_lexer": "ipython3",
   "version": "3.6.3"
  }
 },
 "nbformat": 4,
 "nbformat_minor": 2
}
