{
 "cells": [
  {
   "cell_type": "markdown",
   "metadata": {},
   "source": [
    "# [Argparse Tutorial](https://docs.python.org/3.6/library/argparse.html)"
   ]
  },
  {
   "cell_type": "code",
   "execution_count": 51,
   "metadata": {
    "collapsed": true
   },
   "outputs": [],
   "source": [
    "import argparse"
   ]
  },
  {
   "cell_type": "markdown",
   "metadata": {},
   "source": [
    "### 1. Create argparse instance\n",
    "\n",
    "The parameter '**description**' will show in help page."
   ]
  },
  {
   "cell_type": "code",
   "execution_count": 25,
   "metadata": {},
   "outputs": [],
   "source": [
    "parser = argparse.ArgumentParser(description=\"Calculate X to the power of Y\")"
   ]
  },
  {
   "cell_type": "markdown",
   "metadata": {},
   "source": [
    "### 2. Set positional arguments\n",
    "Use ArgumentParser.add_argument() to define a **positional** argument.\n",
    "\n",
    "Give a name start **without dash** (compare to 3. Set optional arguments)"
   ]
  },
  {
   "cell_type": "code",
   "execution_count": 26,
   "metadata": {},
   "outputs": [
    {
     "data": {
      "text/plain": [
       "_StoreAction(option_strings=[], dest='y', nargs=None, const=None, default=None, type=<class 'int'>, choices=None, help='the exponent', metavar=None)"
      ]
     },
     "execution_count": 26,
     "metadata": {},
     "output_type": "execute_result"
    }
   ],
   "source": [
    "parser.add_argument(\"x\", type=int, help=\"the base\")\n",
    "parser.add_argument(\"y\", type=int, help=\"the exponent\")"
   ]
  },
  {
   "cell_type": "markdown",
   "metadata": {},
   "source": [
    "### 3. Set optional arguments\n",
    "Use ArgumentParser.add_argument() to defina an **optional** argument\n",
    "\n",
    "Giva a name start **with dash** (compare to 2. Set positional arguments)"
   ]
  },
  {
   "cell_type": "code",
   "execution_count": 27,
   "metadata": {},
   "outputs": [
    {
     "data": {
      "text/plain": [
       "_StoreTrueAction(option_strings=['-q', '--quiet'], dest='quiet', nargs=0, const=True, default=False, type=None, choices=None, help=None, metavar=None)"
      ]
     },
     "execution_count": 27,
     "metadata": {},
     "output_type": "execute_result"
    }
   ],
   "source": [
    "parser.add_argument(\"-v\", \"--verbose\", action=\"store_true\")\n",
    "parser.add_argument(\"-q\", \"--quiet\", action=\"store_true\")"
   ]
  },
  {
   "cell_type": "markdown",
   "metadata": {},
   "source": [
    "### 4. At the end, call **parse_args()**\n",
    "Convert argument string to objects and assign them as attributes of the namespace. Return the populated namespace."
   ]
  },
  {
   "cell_type": "code",
   "execution_count": 28,
   "metadata": {},
   "outputs": [
    {
     "name": "stderr",
     "output_type": "stream",
     "text": [
      "usage: __main__.py [-h] [-v] [-q] x y\n",
      "__main__.py: error: argument x: invalid int value: '/run/user/1000/jupyter/kernel-f1aca53c-f85e-448f-8df0-0146b5f78e14.json'\n"
     ]
    },
    {
     "ename": "SystemExit",
     "evalue": "2",
     "output_type": "error",
     "traceback": [
      "An exception has occurred, use %tb to see the full traceback.\n",
      "\u001b[0;31mSystemExit\u001b[0m\u001b[0;31m:\u001b[0m 2\n"
     ]
    },
    {
     "name": "stderr",
     "output_type": "stream",
     "text": [
      "/home/nokia-du/anaconda3/lib/python3.6/site-packages/IPython/core/interactiveshell.py:2889: UserWarning: To exit: use 'exit', 'quit', or Ctrl-D.\n",
      "  warn(\"To exit: use 'exit', 'quit', or Ctrl-D.\", stacklevel=1)\n"
     ]
    }
   ],
   "source": [
    "parser.parse_args()"
   ]
  },
  {
   "cell_type": "markdown",
   "metadata": {},
   "source": [
    "### 5. To print help page\n",
    "You can check \n",
    "- description\n",
    "- x, y are positional arguments\n",
    "- v, q are optional arguments"
   ]
  },
  {
   "cell_type": "code",
   "execution_count": 29,
   "metadata": {},
   "outputs": [
    {
     "name": "stdout",
     "output_type": "stream",
     "text": [
      "usage: __main__.py [-h] [-v] [-q] x y\n",
      "\n",
      "Calculate X to the power of Y\n",
      "\n",
      "positional arguments:\n",
      "  x              the base\n",
      "  y              the exponent\n",
      "\n",
      "optional arguments:\n",
      "  -h, --help     show this help message and exit\n",
      "  -v, --verbose\n",
      "  -q, --quiet\n"
     ]
    }
   ],
   "source": [
    "parser.print_help()"
   ]
  },
  {
   "cell_type": "markdown",
   "metadata": {},
   "source": [
    "# 6. Parameters of ArgumentParser\n",
    "- prog\n",
    "- parents"
   ]
  },
  {
   "cell_type": "markdown",
   "metadata": {},
   "source": [
    "### 6.1. prog\n",
    "If we want to change the program's name shown in above (\\_\\_main\\_\\_.py), use **prog** parameters to do it.\n",
    "\n",
    "You can reference the name at add_argument() by using **%(prog)s**"
   ]
  },
  {
   "cell_type": "code",
   "execution_count": 33,
   "metadata": {},
   "outputs": [
    {
     "name": "stderr",
     "output_type": "stream",
     "text": [
      "usage: X power Y [-h] x\n",
      "X power Y: error: unrecognized arguments: -f\n"
     ]
    },
    {
     "ename": "SystemExit",
     "evalue": "2",
     "output_type": "error",
     "traceback": [
      "An exception has occurred, use %tb to see the full traceback.\n",
      "\u001b[0;31mSystemExit\u001b[0m\u001b[0;31m:\u001b[0m 2\n"
     ]
    },
    {
     "name": "stderr",
     "output_type": "stream",
     "text": [
      "/home/nokia-du/anaconda3/lib/python3.6/site-packages/IPython/core/interactiveshell.py:2889: UserWarning: To exit: use 'exit', 'quit', or Ctrl-D.\n",
      "  warn(\"To exit: use 'exit', 'quit', or Ctrl-D.\", stacklevel=1)\n"
     ]
    }
   ],
   "source": [
    "parser = argparse.ArgumentParser(description=\"Calculate X to the power of Y\", prog='X power Y')\n",
    "parser.add_argument(\"x\", help=\"the base of %(prog)s\")\n",
    "parser.parse_args()"
   ]
  },
  {
   "cell_type": "code",
   "execution_count": 34,
   "metadata": {},
   "outputs": [
    {
     "name": "stdout",
     "output_type": "stream",
     "text": [
      "usage: X power Y [-h] x\n",
      "\n",
      "Calculate X to the power of Y\n",
      "\n",
      "positional arguments:\n",
      "  x           the base of X power Y\n",
      "\n",
      "optional arguments:\n",
      "  -h, --help  show this help message and exit\n"
     ]
    }
   ],
   "source": [
    "parser.print_help()"
   ]
  },
  {
   "cell_type": "markdown",
   "metadata": {},
   "source": [
    "### 6.2. parents\n",
    "Sometimes, several parsers share a common set of arguments. Rather than repeating the definitions of these arguments, a single parser with all the shared arguments and passed to **parents=** argument to ArgumentParser can be used. "
   ]
  },
  {
   "cell_type": "code",
   "execution_count": 42,
   "metadata": {},
   "outputs": [
    {
     "name": "stderr",
     "output_type": "stream",
     "text": [
      "usage: __main__.py [--parent PARENT]\n",
      "__main__.py: error: unrecognized arguments: -f /run/user/1000/jupyter/kernel-f1aca53c-f85e-448f-8df0-0146b5f78e14.json\n"
     ]
    },
    {
     "ename": "SystemExit",
     "evalue": "2",
     "output_type": "error",
     "traceback": [
      "An exception has occurred, use %tb to see the full traceback.\n",
      "\u001b[0;31mSystemExit\u001b[0m\u001b[0;31m:\u001b[0m 2\n"
     ]
    },
    {
     "name": "stderr",
     "output_type": "stream",
     "text": [
      "/home/nokia-du/anaconda3/lib/python3.6/site-packages/IPython/core/interactiveshell.py:2889: UserWarning: To exit: use 'exit', 'quit', or Ctrl-D.\n",
      "  warn(\"To exit: use 'exit', 'quit', or Ctrl-D.\", stacklevel=1)\n"
     ]
    }
   ],
   "source": [
    "# To avoid args conflict, don't add help optional argument.\n",
    "parent_parser = argparse.ArgumentParser(add_help=False)\n",
    "parent_parser.add_argument('--parent', type=int)\n",
    "\n",
    "foo_parser = argparse.ArgumentParser(parents=[parent_parser])\n",
    "foo_parser.add_argument('foo')\n",
    "# assign default value, --parent=2, foo='XXX'\n",
    "foo = foo_parser.parse_args(['--parent', '2', 'XXX'])\n",
    "\n",
    "bar_parser = argparse.ArgumentParser(parents=[parent_parser])\n",
    "bar_parser.add_argument('--bar')\n",
    "# assign default value, --bar='YYY\n",
    "bar = bar_parser.parse_args(['--bar', 'YYY'])\n",
    "\n",
    "parent_parser.parse_args()"
   ]
  },
  {
   "cell_type": "code",
   "execution_count": 49,
   "metadata": {},
   "outputs": [
    {
     "name": "stdout",
     "output_type": "stream",
     "text": [
      "usage: __main__.py [--parent PARENT]\n",
      "\n",
      "optional arguments:\n",
      "  --parent PARENT\n",
      "========================\n",
      "usage: __main__.py [-h] [--parent PARENT] foo\n",
      "\n",
      "positional arguments:\n",
      "  foo\n",
      "\n",
      "optional arguments:\n",
      "  -h, --help       show this help message and exit\n",
      "  --parent PARENT\n",
      "========================\n",
      "usage: __main__.py [-h] [--parent PARENT] [--bar BAR]\n",
      "\n",
      "optional arguments:\n",
      "  -h, --help       show this help message and exit\n",
      "  --parent PARENT\n",
      "  --bar BAR\n",
      "========================\n",
      "foo.foo = XXX & foo.parent = 2\n",
      "bar.bar = YYY & bar.parent = None\n"
     ]
    }
   ],
   "source": [
    "parent_parser.print_help()\n",
    "print(\"========================\")\n",
    "foo_parser.print_help()\n",
    "print(\"========================\")\n",
    "bar_parser.print_help()\n",
    "print(\"========================\")\n",
    "\n",
    "# to check the default value\n",
    "print('foo.foo =', foo.foo, '& foo.parent =', foo.parent)\n",
    "print('bar.bar =', bar.bar, '& bar.parent =', bar.parent)"
   ]
  },
  {
   "cell_type": "markdown",
   "metadata": {},
   "source": [
    "# 7. Parameters of add_argument()"
   ]
  },
  {
   "cell_type": "markdown",
   "metadata": {},
   "source": [
    "### 7.1 action\n",
    "- store\n",
    "- store_const\n",
    "- store_true, store_false\n",
    "- append\n",
    "- count\n",
    "- help\n",
    "- version"
   ]
  },
  {
   "cell_type": "markdown",
   "metadata": {},
   "source": [
    "### 7.1.1 action \n",
    "- 'store': This just stores the argument's value. This is the default action."
   ]
  },
  {
   "cell_type": "code",
   "execution_count": 55,
   "metadata": {},
   "outputs": [
    {
     "name": "stdout",
     "output_type": "stream",
     "text": [
      "--foo 1\n"
     ]
    }
   ],
   "source": [
    "parser = argparse.ArgumentParser()\n",
    "parser.add_argument('--foo')\n",
    "args = parser.parse_args('--foo 1'.split())\n",
    "print('--foo', args.foo)"
   ]
  },
  {
   "cell_type": "markdown",
   "metadata": {},
   "source": [
    "### 7.1.2 action\n",
    "- 'store_const': This stores the value specified by the const keyword argument. The 'store_const' action is most commonly used with optional arguments that specify some sort of flag."
   ]
  },
  {
   "cell_type": "code",
   "execution_count": 60,
   "metadata": {},
   "outputs": [
    {
     "name": "stdout",
     "output_type": "stream",
     "text": [
      "--foo 42\n"
     ]
    }
   ],
   "source": [
    "parser = argparse.ArgumentParser()\n",
    "parser.add_argument('--foo', action='store_const', const=42)\n",
    "args = parser.parse_args(['--foo'])\n",
    "print('--foo', args.foo)"
   ]
  },
  {
   "cell_type": "markdown",
   "metadata": {},
   "source": [
    "### 7.1.3 action\n",
    "- 'store_true' or 'store_false': These are speial cases of 'store_const' used for storing the value True and False respectively. In addition, they create default values of False and True respectively."
   ]
  },
  {
   "cell_type": "code",
   "execution_count": 61,
   "metadata": {},
   "outputs": [
    {
     "name": "stdout",
     "output_type": "stream",
     "text": [
      "--foo True\n",
      "--boo False\n"
     ]
    }
   ],
   "source": [
    "parser = argparse.ArgumentParser()\n",
    "parser.add_argument('--foo', action='store_true')\n",
    "parser.add_argument('--boo', action='store_false')\n",
    "args = parser.parse_args('--foo --boo'.split())\n",
    "print('--foo', args.foo)\n",
    "print('--boo', args.boo)"
   ]
  },
  {
   "cell_type": "markdown",
   "metadata": {},
   "source": [
    "### 7.1.4 action\n",
    "- 'append': This stores a list, and appends each argument value to the list. This is useful to allow an option to be specified multiple times."
   ]
  },
  {
   "cell_type": "code",
   "execution_count": 70,
   "metadata": {},
   "outputs": [
    {
     "name": "stdout",
     "output_type": "stream",
     "text": [
      "--foo ['1', '2']\n"
     ]
    }
   ],
   "source": [
    "parser = argparse.ArgumentParser()\n",
    "parser.add_argument('--foo', action='append')\n",
    "args = parser.parse_args('--foo 1 --foo 2'.split())\n",
    "print('--foo', args.foo)"
   ]
  },
  {
   "cell_type": "markdown",
   "metadata": {},
   "source": [
    "### 7.1.5 action\n",
    "- 'append_const': This stores a list and appends the value specified by the const keyword argument to the list. (Note that the const keyword argument defaults to None.) The 'append_const' action is typically useful when multiple arguments need to store constants to the same list."
   ]
  },
  {
   "cell_type": "code",
   "execution_count": 80,
   "metadata": {},
   "outputs": [
    {
     "name": "stdout",
     "output_type": "stream",
     "text": [
      "[<class 'str'>, <class 'int'>]\n"
     ]
    }
   ],
   "source": [
    "parser = argparse.ArgumentParser()\n",
    "# The 'dest' is to set a name of the attribute\n",
    "parser.add_argument('--str', dest='types', action='append_const', const=str)\n",
    "parser.add_argument('--int', dest='types', action='append_const', const=int)\n",
    "args = parser.parse_args('--str --int'.split())\n",
    "print(args.types)"
   ]
  },
  {
   "cell_type": "markdown",
   "metadata": {},
   "source": [
    "### 7.1.6 action\n",
    "- 'count': This counts the number of times a keyword argument occurs. For example, this is useful for increasing verbosity levels."
   ]
  },
  {
   "cell_type": "code",
   "execution_count": 87,
   "metadata": {},
   "outputs": [
    {
     "name": "stdout",
     "output_type": "stream",
     "text": [
      "--foo 3\n"
     ]
    }
   ],
   "source": [
    "parser = argparse.ArgumentParser()\n",
    "parser.add_argument('-f', '--foo', action='count')\n",
    "args = parser.parse_args('-fff'.split())\n",
    "print('--foo', args.foo)"
   ]
  },
  {
   "cell_type": "markdown",
   "metadata": {},
   "source": [
    "### 7.1.7 action\n",
    "- 'help': This prints a complete help message for all the options in the current parser and then exits. By default a help action is automatically added to the parser."
   ]
  },
  {
   "cell_type": "markdown",
   "metadata": {},
   "source": [
    "### 7.1.8 action\n",
    "- 'version': This expects a version= keyword argument in the add_argument() call, and prints version information and exits when invoked."
   ]
  },
  {
   "cell_type": "code",
   "execution_count": 125,
   "metadata": {},
   "outputs": [
    {
     "name": "stdout",
     "output_type": "stream",
     "text": [
      "HowTo Handle Arguments v.8.7\n"
     ]
    },
    {
     "ename": "SystemExit",
     "evalue": "0",
     "output_type": "error",
     "traceback": [
      "An exception has occurred, use %tb to see the full traceback.\n",
      "\u001b[0;31mSystemExit\u001b[0m\u001b[0;31m:\u001b[0m 0\n"
     ]
    },
    {
     "name": "stderr",
     "output_type": "stream",
     "text": [
      "/home/nokia-du/anaconda3/lib/python3.6/site-packages/IPython/core/interactiveshell.py:2889: UserWarning: To exit: use 'exit', 'quit', or Ctrl-D.\n",
      "  warn(\"To exit: use 'exit', 'quit', or Ctrl-D.\", stacklevel=1)\n"
     ]
    }
   ],
   "source": [
    "parser = argparse.ArgumentParser(prog='HowTo Handle Arguments')\n",
    "parser.add_argument('--version', action='version', version='%(prog)s v.8.7')\n",
    "args = parser.parse_args(['--version'])\n",
    "print('--version', args.version)"
   ]
  },
  {
   "cell_type": "markdown",
   "metadata": {},
   "source": [
    "### 7.2 default\n",
    "All optional arguments and some positional arguments may be omitted at the command line. The default keyword argument of add_argument(), whose value defaults to None, specifies what value should be used if the command-line argument is not present. For optional arguments, the default value is used when the option string was not present at the command line."
   ]
  },
  {
   "cell_type": "code",
   "execution_count": 97,
   "metadata": {},
   "outputs": [
    {
     "name": "stdout",
     "output_type": "stream",
     "text": [
      "Not present in command-line, use default\n",
      "--foo 42\n",
      "\n",
      "Present in command-line, use const\n",
      "--foo 24\n"
     ]
    }
   ],
   "source": [
    "parser = argparse.ArgumentParser()\n",
    "parser.add_argument('--foo', action='store_const', const=24, default=42)\n",
    "args = parser.parse_args([])\n",
    "print('Not present in command-line, use default')\n",
    "print('--foo', args.foo)\n",
    "\n",
    "print('')\n",
    "\n",
    "args = parser.parse_args(['--foo'])\n",
    "print('Present in command-line, use const')\n",
    "print('--foo', args.foo)"
   ]
  },
  {
   "cell_type": "markdown",
   "metadata": {},
   "source": [
    "### 7.3 type\n",
    "The type keyword argument of add_argument() allows any necessary type-checking and type conversions to be performed. **Common built-in types** and **functions** can be used directly as the value of the type argument."
   ]
  },
  {
   "cell_type": "code",
   "execution_count": 102,
   "metadata": {},
   "outputs": [
    {
     "name": "stdout",
     "output_type": "stream",
     "text": [
      "Namespace(bar=<_io.TextIOWrapper name='../README.md' mode='r' encoding='UTF-8'>, foo=2)\n"
     ]
    }
   ],
   "source": [
    "parser = argparse.ArgumentParser()\n",
    "# int, built-in type\n",
    "parser.add_argument('foo', type=int)\n",
    "# open, function\n",
    "parser.add_argument('bar', type=open)\n",
    "args = parser.parse_args('2 ../README.md'.split())\n",
    "print(args)"
   ]
  },
  {
   "cell_type": "markdown",
   "metadata": {},
   "source": [
    "### 7.4 choices\n",
    "Some command-line argumentsw should be selected from a restricted set of values. These can be handled by passing a container object as choiceskeyword argument to add_argument(). When the command line is parsed, argument values will be checked, and an error message will be displayed if the argument was not one of the acceptable values."
   ]
  },
  {
   "cell_type": "code",
   "execution_count": 119,
   "metadata": {},
   "outputs": [
    {
     "name": "stdout",
     "output_type": "stream",
     "text": [
      "Namespace(bar=3, foo='rock')\n"
     ]
    }
   ],
   "source": [
    "parser = argparse.ArgumentParser(prog='HowTo Handle Arguments')\n",
    "parser.add_argument('foo', type=str, choices=['rock', 'paper', 'scissors'])\n",
    "# range from 1 to 3, not 4.\n",
    "parser.add_argument('bar', type=int, choices=range(1, 4))\n",
    "args = parser.parse_args('rock 3'.split())\n",
    "print(args)\n",
    "\n",
    "# The following two line will raise an error message.\n",
    "# args = parser.parse_args('fire, 3'.split())\n",
    "# args = parser.parse_args('rock, 4'.split())"
   ]
  },
  {
   "cell_type": "markdown",
   "metadata": {},
   "source": [
    "### 7.5 required\n",
    "In general, the argparse module assumes that flags like -f and --bar indicate optional arguments, which can always be omitted at the command line. To make an option required, True can be specified for the required= keyword argument to add_argument().\n",
    "\n",
    "**Note**: Required options are generally considered bad form because user expect options to be optional, and thus they should be avoided when possible."
   ]
  },
  {
   "cell_type": "code",
   "execution_count": 120,
   "metadata": {},
   "outputs": [
    {
     "name": "stderr",
     "output_type": "stream",
     "text": [
      "usage: HowTo Handle Arguments [-h] --foo FOO\n",
      "HowTo Handle Arguments: error: the following arguments are required: --foo\n"
     ]
    },
    {
     "ename": "SystemExit",
     "evalue": "2",
     "output_type": "error",
     "traceback": [
      "An exception has occurred, use %tb to see the full traceback.\n",
      "\u001b[0;31mSystemExit\u001b[0m\u001b[0;31m:\u001b[0m 2\n"
     ]
    },
    {
     "name": "stderr",
     "output_type": "stream",
     "text": [
      "/home/nokia-du/anaconda3/lib/python3.6/site-packages/IPython/core/interactiveshell.py:2889: UserWarning: To exit: use 'exit', 'quit', or Ctrl-D.\n",
      "  warn(\"To exit: use 'exit', 'quit', or Ctrl-D.\", stacklevel=1)\n"
     ]
    }
   ],
   "source": [
    "parser = argparse.ArgumentParser(prog='HowTo Handle Arguments')\n",
    "parser.add_argument('--foo', required=True)\n",
    "args = parser.parse_args()\n",
    "print(args)"
   ]
  },
  {
   "cell_type": "markdown",
   "metadata": {},
   "source": [
    "### 7.6 help\n",
    "The help value is a string containing a brief description of the argument. When a user requests help (usually by using -h or --help at the command line), thest help descriptions will be displayed with each argument.\n",
    "\n",
    "The available specifiers include the program name, **%(prog)s** and **most keyword arguments** to add_argument(), e.g. **%(default)s**, **%(type)s**, etc."
   ]
  },
  {
   "cell_type": "code",
   "execution_count": 123,
   "metadata": {},
   "outputs": [
    {
     "name": "stdout",
     "output_type": "stream",
     "text": [
      "usage: HowTo Handle Arguments [-h] [--foo FOO]\n",
      "\n",
      "optional arguments:\n",
      "  -h, --help  show this help message and exit\n",
      "  --foo FOO   The foo to HowTo Handle Arguments (default value is: 42)\n"
     ]
    }
   ],
   "source": [
    "parser = argparse.ArgumentParser(prog='HowTo Handle Arguments')\n",
    "parser.add_argument('--foo', type=int, default=42, \n",
    "                   help='The foo to %(prog)s (default value is: %(default)s)')\n",
    "parser.print_help()"
   ]
  },
  {
   "cell_type": "markdown",
   "metadata": {},
   "source": [
    "### 7.7 metavar & dest\n",
    "metavar: only changes the displayed name, the name of the attribute on the parse_args() object is still determined by the dest value.\n",
    "dest: To set the name of attribute. For positional argument actions, dest is normally supplied as the first argument to add_argument()"
   ]
  },
  {
   "cell_type": "code",
   "execution_count": 135,
   "metadata": {},
   "outputs": [
    {
     "name": "stdout",
     "output_type": "stream",
     "text": [
      "Namespace(XXX='Y')\n",
      "usage: __main__.py [-h] [--foo YYY]\n",
      "\n",
      "optional arguments:\n",
      "  -h, --help  show this help message and exit\n",
      "  --foo YYY\n",
      "None\n"
     ]
    }
   ],
   "source": [
    "parser = argparse.ArgumentParser()\n",
    "parser.add_argument('--foo', metavar='YYY', dest='XXX')\n",
    "args = parser.parse_args('--foo Y'.split())\n",
    "print(args)\n",
    "print(parser.print_help())"
   ]
  },
  {
   "cell_type": "markdown",
   "metadata": {},
   "source": [
    "# 8. Argument groups\n",
    "By default, ArgumentParser groups command-line arguments into 'positional arguments' and 'optional arguments' when displaying help messages. When there is a better conceptual grouping of arguments than this default one, appropriate groups can be created using the **add_argument_group()** method."
   ]
  },
  {
   "cell_type": "code",
   "execution_count": 137,
   "metadata": {},
   "outputs": [
    {
     "name": "stdout",
     "output_type": "stream",
     "text": [
      "usage: HowTo Handle Arguments [-h] [--foo FOO] [--goo GOO] bar car\n",
      "\n",
      "optional arguments:\n",
      "  -h, --help  show this help message and exit\n",
      "\n",
      "group1:\n",
      "  This is discription of group1\n",
      "\n",
      "  --foo FOO   foo help\n",
      "  bar         bar help\n",
      "\n",
      "group2:\n",
      "  This is discription of group2\n",
      "\n",
      "  --goo GOO   help of goo\n",
      "  car         help of car\n"
     ]
    }
   ],
   "source": [
    "parser = argparse.ArgumentParser(prog='HowTo Handle Arguments')\n",
    "\n",
    "group1 = parser.add_argument_group('group1', 'This is discription of group1')\n",
    "group1.add_argument('--foo', help='foo help')\n",
    "group1.add_argument('bar', help='bar help')\n",
    "\n",
    "group2 = parser.add_argument_group('group2', 'This is discription of group2')\n",
    "group2.add_argument('--goo', help='help of goo')\n",
    "group2.add_argument('car', help='help of car')\n",
    "\n",
    "parser.print_help()"
   ]
  },
  {
   "cell_type": "markdown",
   "metadata": {},
   "source": [
    "# 9. Mutual exclusion\n",
    "Create a mutual exclusive group. argparse will make sure that only **one** of the arguments in the mutually exclusive group was present on the command line."
   ]
  },
  {
   "cell_type": "code",
   "execution_count": 138,
   "metadata": {},
   "outputs": [
    {
     "name": "stdout",
     "output_type": "stream",
     "text": [
      "usage: HowTo Handle Arguments [-h] (--foo | --bar)\n",
      "\n",
      "optional arguments:\n",
      "  -h, --help  show this help message and exit\n",
      "  --foo\n",
      "  --bar\n"
     ]
    }
   ],
   "source": [
    "parser = argparse.ArgumentParser(prog='HowTo Handle Arguments')\n",
    "\n",
    "group = parser.add_mutually_exclusive_group(required=True)\n",
    "group.add_argument('--foo', action='store_true')\n",
    "group.add_argument('--bar', action='store_false')\n",
    "\n",
    "parser.print_help()"
   ]
  },
  {
   "cell_type": "code",
   "execution_count": null,
   "metadata": {
    "collapsed": true
   },
   "outputs": [],
   "source": []
  }
 ],
 "metadata": {
  "kernelspec": {
   "display_name": "Python [default]",
   "language": "python",
   "name": "python3"
  },
  "language_info": {
   "codemirror_mode": {
    "name": "ipython",
    "version": 3
   },
   "file_extension": ".py",
   "mimetype": "text/x-python",
   "name": "python",
   "nbconvert_exporter": "python",
   "pygments_lexer": "ipython3",
   "version": "3.6.3"
  }
 },
 "nbformat": 4,
 "nbformat_minor": 2
}
